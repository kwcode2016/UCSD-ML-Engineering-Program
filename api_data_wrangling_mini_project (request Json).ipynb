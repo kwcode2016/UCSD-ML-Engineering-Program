{
 "cells": [
  {
   "cell_type": "markdown",
   "metadata": {},
   "source": [
    "This exercise will require you to pull some data from https://data.nasdaq.com/ (formerly Quandl API)."
   ]
  },
  {
   "cell_type": "markdown",
   "metadata": {},
   "source": [
    "As a first step, you will need to register a free account on the https://data.nasdaq.com/ website."
   ]
  },
  {
   "cell_type": "markdown",
   "metadata": {},
   "source": [
    "After you register, you will be provided with a unique API key, that you should store:\n",
    "\n",
    "*Note*: Use a `.env` file and put your key in there and `python-dotenv` to access it in this notebook. \n",
    "\n",
    "The code below uses a key that was used when generating this project but has since been deleted. Never submit your keys to source control. There is a `.env-example` file in this repository to illusrtate what you need. Copy that to a file called `.env` and use your own api key in that `.env` file. Make sure you also have a `.gitignore` file with a line for `.env` added to it. \n",
    "\n",
    "The standard Python gitignore is [here](https://github.com/github/gitignore/blob/master/Python.gitignore) you can just copy that. "
   ]
  },
  {
   "cell_type": "code",
   "execution_count": 3,
   "metadata": {},
   "outputs": [
    {
     "name": "stdout",
     "output_type": "stream",
     "text": [
      "sYnhA1u2Yxaq-ptMCJsj\n"
     ]
    }
   ],
   "source": [
    "# get api key from your .env file\n",
    "import os\n",
    "from dotenv import load_dotenv  # if missing this module, simply run `pip install python-dotenv`\n",
    "\n",
    "load_dotenv()\n",
    "API_KEY = os.getenv('NASDAQ_API_KEY')\n",
    "\n",
    "print(API_KEY)"
   ]
  },
  {
   "cell_type": "markdown",
   "metadata": {},
   "source": [
    "Nasdaq Data has a large number of data sources, but, unfortunately, most of them require a Premium subscription. Still, there are also a good number of free datasets."
   ]
  },
  {
   "cell_type": "markdown",
   "metadata": {},
   "source": [
    "For this mini project, we will focus on equities data from the Frankfurt Stock Exhange (FSE), which is available for free. We'll try and analyze the stock prices of a company called Carl Zeiss Meditec, which manufactures tools for eye examinations, as well as medical lasers for laser eye surgery: https://www.zeiss.com/meditec/int/home.html. The company is listed under the stock ticker AFX_X."
   ]
  },
  {
   "cell_type": "markdown",
   "metadata": {},
   "source": [
    "You can find the detailed Nasdaq Data API instructions here: https://docs.data.nasdaq.com/docs/in-depth-usage"
   ]
  },
  {
   "cell_type": "markdown",
   "metadata": {},
   "source": [
    "While there is a dedicated Python package for connecting to the Nasdaq API, we would prefer that you use the *requests* package, which can be easily downloaded using *pip* or *conda*. You can find the documentation for the package here: http://docs.python-requests.org/en/master/ "
   ]
  },
  {
   "cell_type": "markdown",
   "metadata": {},
   "source": [
    "Finally, apart from the *requests* package, you are encouraged to not use any third party Python packages, such as *pandas*, and instead focus on what's available in the Python Standard Library (the *collections* module might come in handy: https://pymotw.com/3/collections/).\n",
    "Also, since you won't have access to DataFrames, you are encouraged to us Python's native data structures - preferably dictionaries, though some questions can also be answered using lists.\n",
    "You can read more on these data structures here: https://docs.python.org/3/tutorial/datastructures.html"
   ]
  },
  {
   "cell_type": "markdown",
   "metadata": {},
   "source": [
    "Keep in mind that the JSON responses you will be getting from the API map almost one-to-one to Python's dictionaries. Unfortunately, they can be very nested, so make sure you read up on indexing dictionaries in the documentation provided above."
   ]
  },
  {
   "cell_type": "code",
   "execution_count": 14,
   "metadata": {},
   "outputs": [],
   "source": [
    "# First, import the relevant modules\n",
    "\n",
    "import requests, json"
   ]
  },
  {
   "cell_type": "markdown",
   "metadata": {},
   "source": [
    "Note: API's can change a bit with each version, for this exercise it is reccomended to use the nasdaq api at `https://data.nasdaq.com/api/v3/`. This is the same api as what used to be quandl so `https://www.quandl.com/api/v3/` should work too.\n",
    "\n",
    "Hint: We are looking for the `AFX_X` data on the `datasets/FSE/` dataset."
   ]
  },
  {
   "cell_type": "markdown",
   "metadata": {},
   "source": [
    "# 1. Collect data from the Franfurt Stock Exchange, for the ticker AFX_X, for the whole year 2017"
   ]
  },
  {
   "cell_type": "code",
   "execution_count": 149,
   "metadata": {},
   "outputs": [],
   "source": [
    "# Now, call the Nasdaq API and pull out a small sample of the data (only one day) to get a glimpse\n",
    "# into the JSON structure that will be returned\n",
    "\n",
    "\n",
    "### Json request\n",
    "url = f\"https://data.nasdaq.com/api/v3/datasets/FSE/AFX_X/data.json?start_date=2017-01-01&end_date=2017-12-31&api_key={API_KEY}\"\n",
    "\n",
    "json_data_req = requests.get(url)"
   ]
  },
  {
   "cell_type": "markdown",
   "metadata": {},
   "source": [
    "# 2. Convert the returned JSON object into a Python dictionary."
   ]
  },
  {
   "cell_type": "code",
   "execution_count": 148,
   "metadata": {},
   "outputs": [],
   "source": [
    "json_data_dict = json.loads(json_data_req.content)"
   ]
  },
  {
   "cell_type": "markdown",
   "metadata": {},
   "source": [
    "# setting up list for just stock prices by date"
   ]
  },
  {
   "cell_type": "code",
   "execution_count": 100,
   "metadata": {},
   "outputs": [
    {
     "name": "stdout",
     "output_type": "stream",
     "text": [
      "[('Date', 0), ('Open', 1), ('High', 2), ('Low', 3), ('Close', 4), ('Change', 5), ('Traded Volume', 6), ('Turnover', 7), ('Last Price of the Day', 8), ('Daily Traded Units', 9), ('Daily Turnover', 10)]\n"
     ]
    }
   ],
   "source": [
    "# Inspect the JSON structure of the object you created, and take note of how nested it is,\n",
    "# as well as the overall structure\n",
    "\n",
    "\n",
    "#print(data)\n",
    "stock_data_list = [i for i in json_data_dict['dataset_data']['data']]\n",
    "#print(stock_data_array)\n",
    "stock_data_list = sorted(stock_data_list, key=lambda x: x[0]) # sorting by date \n"
   ]
  },
  {
   "cell_type": "code",
   "execution_count": 116,
   "metadata": {},
   "outputs": [
    {
     "name": "stdout",
     "output_type": "stream",
     "text": [
      "[('Date', 0), ('Open', 1), ('High', 2), ('Low', 3), ('Close', 4), ('Change', 5), ('Traded Volume', 6), ('Turnover', 7), ('Last Price of the Day', 8), ('Daily Traded Units', 9), ('Daily Turnover', 10)]\n"
     ]
    }
   ],
   "source": [
    "# check index of column names of stock_data_list \n",
    "column_names = json_data_dict['dataset_data']['column_names']\n",
    "print(list(zip(column_names, range(len(column_names)))))"
   ]
  },
  {
   "cell_type": "markdown",
   "metadata": {},
   "source": [
    "# 3. Calculate what the highest and lowest opening prices were for the stock in this period. "
   ]
  },
  {
   "cell_type": "code",
   "execution_count": 88,
   "metadata": {},
   "outputs": [
    {
     "name": "stdout",
     "output_type": "stream",
     "text": [
      "min open price = 34.0 \n",
      "max open price = 53.11\n"
     ]
    }
   ],
   "source": [
    "# finding the open\n",
    "\n",
    "open_prices_list = [i[1] for i in stock_data_list if i[1] != None] # removing all None values for open prices\n",
    "min_open_price = min(open_prices_list)\n",
    "max_open_price = max(open_prices_list)\n",
    "\n",
    "print(f'min open price = {min_open_price} \\nmax open price = {max_open_price}')\n"
   ]
  },
  {
   "cell_type": "markdown",
   "metadata": {},
   "source": [
    "# 4. What was the largest change in any one day (based on High and Low price)?"
   ]
  },
  {
   "cell_type": "code",
   "execution_count": 114,
   "metadata": {},
   "outputs": [
    {
     "name": "stdout",
     "output_type": "stream",
     "text": [
      "Largest Change in any one day: 2.8100000000000023 on 2017-05-11\n"
     ]
    }
   ],
   "source": [
    "high_low_price_list = [[i[0:4], i[2]-i[3]]for i in stock_data_list ]\n",
    "change_list = [i[1] for i in high_low_price_list]\n",
    "max_high_low = max(change_list)\n",
    "date_biggest_change = [i for i in high_low_price_list if i[1] == max_high_low] # more than 1 if multiple dates have the same change\n",
    "\n",
    "print(f'Largest Change in any one day: {max_high_low} on {date_biggest_change[0][0][0]}')"
   ]
  },
  {
   "cell_type": "markdown",
   "metadata": {},
   "source": [
    "# 5. What was the largest change between any two days (based on Closing Price)?"
   ]
  },
  {
   "cell_type": "code",
   "execution_count": 130,
   "metadata": {},
   "outputs": [
    {
     "name": "stdout",
     "output_type": "stream",
     "text": [
      "Largest Positive two day change: 3.1499999999999986\n",
      "Largest Negative two day change: -2.280000000000001\n"
     ]
    }
   ],
   "source": [
    "# stock_data_list closing price 4  .\n",
    "# calculate on each day -->  2 days before close - current day close\n",
    "# largest change positive , largest change negative and overall largest change\n",
    "# problem: first 2 days don't have 2 days prior data (ignore this issue for this project NA for those first 2 days)\n",
    "# problem: is it two actual days? or 2 trading days. for this project, I will use trading days\n",
    "\n",
    "two_day_change_list = []\n",
    "for i in range(len(stock_data_list)):\n",
    "    current_date = stock_data_list[i][0]\n",
    "    current_date_close = stock_data_list[i][4]\n",
    "    if i-2 >= 0:\n",
    "        two_days_ago_close = stock_data_list[i-2][4]\n",
    "    else:\n",
    "        two_days_ago_close = current_date_close\n",
    "    two_day_change = two_days_ago_close - current_date_close\n",
    "        \n",
    "    single_date_data = [current_date, two_days_ago_close, current_date_close, two_day_change ]\n",
    "    two_day_change_list.append(single_date_data)\n",
    "\n",
    "max_positive_two_day_change = max([i[3] for i in two_day_change_list])\n",
    "min_positive_two_day_change = min([i[3] for i in two_day_change_list])\n",
    "\n",
    "print (f'Largest Positive two day change: {max_positive_two_day_change}\\nLargest Negative two day change: {min_positive_two_day_change}')\n",
    "  "
   ]
  },
  {
   "cell_type": "markdown",
   "metadata": {},
   "source": [
    "# 6. What was the average daily trading volume during this year?"
   ]
  },
  {
   "cell_type": "code",
   "execution_count": 146,
   "metadata": {},
   "outputs": [
    {
     "data": {
      "text/plain": [
       "[44700.0,\n",
       " 70618.0,\n",
       " 54408.0,\n",
       " 48412.0,\n",
       " 27507.0,\n",
       " 62225.0,\n",
       " 43976.0,\n",
       " 123530.0,\n",
       " 163860.0,\n",
       " 59367.0,\n",
       " 47879.0,\n",
       " 39195.0,\n",
       " 65931.0,\n",
       " 73105.0,\n",
       " 80246.0,\n",
       " 55333.0,\n",
       " 48797.0,\n",
       " 56240.0,\n",
       " 64103.0,\n",
       " 69657.0,\n",
       " 69603.0,\n",
       " 63371.0,\n",
       " 85137.0,\n",
       " 54279.0,\n",
       " 40705.0,\n",
       " 41911.0,\n",
       " 67410.0,\n",
       " 39731.0,\n",
       " 67781.0,\n",
       " 115843.0,\n",
       " 177171.0,\n",
       " 82601.0,\n",
       " 77420.0,\n",
       " 84682.0,\n",
       " 60583.0,\n",
       " 37014.0,\n",
       " 46070.0,\n",
       " 77619.0,\n",
       " 81945.0,\n",
       " 101294.0,\n",
       " 62655.0,\n",
       " 67440.0,\n",
       " 86753.0,\n",
       " 49863.0,\n",
       " 40800.0,\n",
       " 46510.0,\n",
       " 61925.0,\n",
       " 45111.0,\n",
       " 43988.0,\n",
       " 38518.0,\n",
       " 44803.0,\n",
       " 60420.0,\n",
       " 60324.0,\n",
       " 55799.0,\n",
       " 90109.0,\n",
       " 97572.0,\n",
       " 56906.0,\n",
       " 670349.0,\n",
       " 169971.0,\n",
       " 210926.0,\n",
       " 191515.0,\n",
       " 115075.0,\n",
       " 335406.0,\n",
       " 189201.0,\n",
       " 95382.0,\n",
       " 127973.0,\n",
       " 193156.0,\n",
       " 156005.0,\n",
       " 96794.0,\n",
       " 81255.0,\n",
       " 62297.0,\n",
       " 107817.0,\n",
       " 158278.0,\n",
       " 88416.0,\n",
       " 88416.0,\n",
       " 88416.0,\n",
       " 133057.0,\n",
       " 92722.0,\n",
       " 223621.0,\n",
       " 186784.0,\n",
       " 102084.0,\n",
       " 85973.0,\n",
       " 65847.0,\n",
       " 151683.0,\n",
       " 86348.0,\n",
       " 86348.0,\n",
       " 86559.0,\n",
       " 65266.0,\n",
       " 82058.0,\n",
       " 78512.0,\n",
       " 97456.0,\n",
       " 151439.0,\n",
       " 91858.0,\n",
       " 189125.0,\n",
       " 159495.0,\n",
       " 193702.0,\n",
       " 101476.0,\n",
       " 149515.0,\n",
       " 166160.0,\n",
       " 45.0,\n",
       " 70856.0,\n",
       " 38308.0,\n",
       " 111923.0,\n",
       " 49970.0,\n",
       " 74453.0,\n",
       " 112.0,\n",
       " 587.0,\n",
       " 522.0,\n",
       " 106513.0,\n",
       " 290.0,\n",
       " 686.0,\n",
       " 1081.0,\n",
       " 1945.0,\n",
       " 99674.0,\n",
       " 112942.0,\n",
       " 107644.0,\n",
       " 83741.0,\n",
       " 101733.0,\n",
       " 202214.0,\n",
       " 70056.0,\n",
       " 108334.0,\n",
       " 89752.0,\n",
       " 56071.0,\n",
       " 80586.0,\n",
       " 73322.0,\n",
       " 82492.0,\n",
       " 117165.0,\n",
       " 134965.0,\n",
       " 136112.0,\n",
       " 71381.0,\n",
       " 50549.0,\n",
       " 48706.0,\n",
       " 66116.0,\n",
       " 47999.0,\n",
       " 71868.0,\n",
       " 90538.0,\n",
       " 115705.0,\n",
       " 82745.0,\n",
       " 67375.0,\n",
       " 104995.0,\n",
       " 104003.0,\n",
       " 71971.0,\n",
       " 87399.0,\n",
       " 73422.0,\n",
       " 104282.0,\n",
       " 112224.0,\n",
       " 81970.0,\n",
       " 50557.0,\n",
       " 114006.0,\n",
       " 62672.0,\n",
       " 74975.0,\n",
       " 187468.0,\n",
       " 77854.0,\n",
       " 96202.0,\n",
       " 164543.0,\n",
       " 156168.0,\n",
       " 355857.0,\n",
       " 175161.0,\n",
       " 183412.0,\n",
       " 127682.0,\n",
       " 64334.0,\n",
       " 104676.0,\n",
       " 131361.0,\n",
       " 72886.0,\n",
       " 68812.0,\n",
       " 95376.0,\n",
       " 70269.0,\n",
       " 65213.0,\n",
       " 69734.0,\n",
       " 47130.0,\n",
       " 98156.0,\n",
       " 97804.0,\n",
       " 157888.0,\n",
       " 151474.0,\n",
       " 105288.0,\n",
       " 66351.0,\n",
       " 71006.0,\n",
       " 64320.0,\n",
       " 59881.0,\n",
       " 103273.0,\n",
       " 52828.0,\n",
       " 68801.0,\n",
       " 65157.0,\n",
       " 107144.0,\n",
       " 44037.0,\n",
       " 65546.0,\n",
       " 57838.0,\n",
       " 105194.0,\n",
       " 79955.0,\n",
       " 56224.0,\n",
       " 51321.0,\n",
       " 76600.0,\n",
       " 157234.0,\n",
       " 99821.0,\n",
       " 95313.0,\n",
       " 115706.0,\n",
       " 94804.0,\n",
       " 66760.0,\n",
       " 44059.0,\n",
       " 65860.0,\n",
       " 69455.0,\n",
       " 49180.0,\n",
       " 43362.0,\n",
       " 49246.0,\n",
       " 65837.0,\n",
       " 45263.0,\n",
       " 59991.0,\n",
       " 55707.0,\n",
       " 43375.0,\n",
       " 43042.0,\n",
       " 47730.0,\n",
       " 56319.0,\n",
       " 74472.0,\n",
       " 56245.0,\n",
       " 56319.0,\n",
       " 37958.0,\n",
       " 56911.0,\n",
       " 60716.0,\n",
       " 48152.0,\n",
       " 94195.0,\n",
       " 120268.0,\n",
       " 90245.0,\n",
       " 76286.0,\n",
       " 67672.0,\n",
       " 67593.0,\n",
       " 89373.0,\n",
       " 54107.0,\n",
       " 97252.0,\n",
       " 78502.0,\n",
       " 91142.0,\n",
       " 38834.0,\n",
       " 50350.0,\n",
       " 102180.0,\n",
       " 42669.0,\n",
       " 67342.0,\n",
       " 123019.0,\n",
       " 101733.0,\n",
       " 94385.0,\n",
       " 83023.0,\n",
       " 88730.0,\n",
       " 48123.0,\n",
       " 109157.0,\n",
       " 71817.0,\n",
       " 87911.0,\n",
       " 128434.0,\n",
       " 132981.0,\n",
       " 204080.0,\n",
       " 129733.0,\n",
       " 137313.0,\n",
       " 50587.0,\n",
       " 120649.0,\n",
       " 71165.0,\n",
       " 57452.0,\n",
       " 40660.0,\n",
       " 34640.0]"
      ]
     },
     "metadata": {},
     "output_type": "display_data"
    },
    {
     "name": "stdout",
     "output_type": "stream",
     "text": [
      "Average daily trading volume: 89124.33725490196\n"
     ]
    }
   ],
   "source": [
    "trading_volume_list = [i[6] for i in stock_data_list]\n",
    "avg_trading_volume = sum(trading_volume_list)/len(trading_volume_list)\n",
    "print( f\"Average daily trading volume: {avg_trading_volume}\")"
   ]
  },
  {
   "cell_type": "markdown",
   "metadata": {},
   "source": [
    "# 7. (Optional) What was the median trading volume during this year. (Note: you may need to implement your own function for calculating the median.)"
   ]
  },
  {
   "cell_type": "code",
   "execution_count": 147,
   "metadata": {},
   "outputs": [
    {
     "name": "stdout",
     "output_type": "stream",
     "text": [
      "Median Trading Volume: 76286.0\n"
     ]
    }
   ],
   "source": [
    "sorted_trading_volume_list = sorted(trading_volume_list)\n",
    "median_trading_volume = sorted_trading_volume_list[int(len(sorted_trading_volume_list)/2)]\n",
    "print(f\"Median Trading Volume: {median_trading_volume}\")"
   ]
  },
  {
   "cell_type": "markdown",
   "metadata": {},
   "source": [
    "These are your tasks for this mini project:\n",
    "\n",
    "1. Collect data from the Franfurt Stock Exchange, for the ticker AFX_X, for the whole year 2017 (keep in mind that the date format is YYYY-MM-DD).\n",
    "2. Convert the returned JSON object into a Python dictionary.\n",
    "3. Calculate what the highest and lowest opening prices were for the stock in this period.\n",
    "4. What was the largest change in any one day (based on High and Low price)?\n",
    "5. What was the largest change between any two days (based on Closing Price)?\n",
    "6. What was the average daily trading volume during this year?\n",
    "7. (Optional) What was the median trading volume during this year. (Note: you may need to implement your own function for calculating the median.)"
   ]
  },
  {
   "cell_type": "code",
   "execution_count": null,
   "metadata": {},
   "outputs": [],
   "source": []
  }
 ],
 "metadata": {
  "kernelspec": {
   "display_name": "Python 3 (ipykernel)",
   "language": "python",
   "name": "python3"
  },
  "language_info": {
   "codemirror_mode": {
    "name": "ipython",
    "version": 3
   },
   "file_extension": ".py",
   "mimetype": "text/x-python",
   "name": "python",
   "nbconvert_exporter": "python",
   "pygments_lexer": "ipython3",
   "version": "3.9.12"
  },
  "vscode": {
   "interpreter": {
    "hash": "65fae29be093a2de8a9d4fb8964ce2f11d6cedff164d9ebaf11802649bc13584"
   }
  }
 },
 "nbformat": 4,
 "nbformat_minor": 4
}
